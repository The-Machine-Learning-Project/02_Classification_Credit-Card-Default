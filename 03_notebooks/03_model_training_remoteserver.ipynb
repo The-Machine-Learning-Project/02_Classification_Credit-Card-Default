{
 "cells": [
  {
   "cell_type": "markdown",
   "metadata": {},
   "source": [
    "### Model Training"
   ]
  },
  {
   "cell_type": "markdown",
   "metadata": {},
   "source": [
    "Before running this notebook makesure to run the following command in gitbash under the `04_models` directory: <br>\n",
    "> `mlflow ui`"
   ]
  },
  {
   "cell_type": "markdown",
   "metadata": {},
   "source": [
    "##### Notebook Setup"
   ]
  },
  {
   "cell_type": "code",
   "execution_count": 1,
   "metadata": {},
   "outputs": [],
   "source": [
    "# Import libraries\n",
    "\n",
    "import pandas as pd\n",
    "import numpy as np\n",
    "import matplotlib.pyplot as plt\n",
    "\n",
    "import mlflow\n",
    "\n",
    "from sklearn.tree import DecisionTreeClassifier\n",
    "\n",
    "from sklearn.model_selection import train_test_split\n",
    "\n",
    "from sklearn.metrics import confusion_matrix\n",
    "from sklearn.metrics import accuracy_score\n",
    "from sklearn.metrics import precision_score\n",
    "from sklearn.metrics import recall_score\n",
    "from sklearn.metrics import f1_score\n",
    "from sklearn.metrics import roc_auc_score\n",
    "from sklearn.metrics import confusion_matrix, ConfusionMatrixDisplay\n",
    "from sklearn.metrics import RocCurveDisplay\n"
   ]
  },
  {
   "cell_type": "markdown",
   "metadata": {},
   "source": [
    "##### Data Pull"
   ]
  },
  {
   "cell_type": "code",
   "execution_count": 2,
   "metadata": {},
   "outputs": [
    {
     "data": {
      "text/html": [
       "<div>\n",
       "<style scoped>\n",
       "    .dataframe tbody tr th:only-of-type {\n",
       "        vertical-align: middle;\n",
       "    }\n",
       "\n",
       "    .dataframe tbody tr th {\n",
       "        vertical-align: top;\n",
       "    }\n",
       "\n",
       "    .dataframe thead th {\n",
       "        text-align: right;\n",
       "    }\n",
       "</style>\n",
       "<table border=\"1\" class=\"dataframe\">\n",
       "  <thead>\n",
       "    <tr style=\"text-align: right;\">\n",
       "      <th></th>\n",
       "      <th>ID</th>\n",
       "      <th>LIMIT_BAL</th>\n",
       "      <th>SEX</th>\n",
       "      <th>EDUCATION</th>\n",
       "      <th>MARRIAGE</th>\n",
       "      <th>AGE</th>\n",
       "      <th>PAY_1</th>\n",
       "      <th>PAY_2</th>\n",
       "      <th>PAY_3</th>\n",
       "      <th>PAY_4</th>\n",
       "      <th>...</th>\n",
       "      <th>BILL_AMT4</th>\n",
       "      <th>BILL_AMT5</th>\n",
       "      <th>BILL_AMT6</th>\n",
       "      <th>PAY_AMT1</th>\n",
       "      <th>PAY_AMT2</th>\n",
       "      <th>PAY_AMT3</th>\n",
       "      <th>PAY_AMT4</th>\n",
       "      <th>PAY_AMT5</th>\n",
       "      <th>PAY_AMT6</th>\n",
       "      <th>DEFAULT_IND</th>\n",
       "    </tr>\n",
       "  </thead>\n",
       "  <tbody>\n",
       "    <tr>\n",
       "      <th>0</th>\n",
       "      <td>1</td>\n",
       "      <td>20000</td>\n",
       "      <td>2</td>\n",
       "      <td>2</td>\n",
       "      <td>1</td>\n",
       "      <td>24</td>\n",
       "      <td>2</td>\n",
       "      <td>2</td>\n",
       "      <td>-1</td>\n",
       "      <td>-1</td>\n",
       "      <td>...</td>\n",
       "      <td>0</td>\n",
       "      <td>0</td>\n",
       "      <td>0</td>\n",
       "      <td>0</td>\n",
       "      <td>689</td>\n",
       "      <td>0</td>\n",
       "      <td>0</td>\n",
       "      <td>0</td>\n",
       "      <td>0</td>\n",
       "      <td>1</td>\n",
       "    </tr>\n",
       "    <tr>\n",
       "      <th>1</th>\n",
       "      <td>2</td>\n",
       "      <td>120000</td>\n",
       "      <td>2</td>\n",
       "      <td>2</td>\n",
       "      <td>2</td>\n",
       "      <td>26</td>\n",
       "      <td>-1</td>\n",
       "      <td>2</td>\n",
       "      <td>0</td>\n",
       "      <td>0</td>\n",
       "      <td>...</td>\n",
       "      <td>3272</td>\n",
       "      <td>3455</td>\n",
       "      <td>3261</td>\n",
       "      <td>0</td>\n",
       "      <td>1000</td>\n",
       "      <td>1000</td>\n",
       "      <td>1000</td>\n",
       "      <td>0</td>\n",
       "      <td>2000</td>\n",
       "      <td>1</td>\n",
       "    </tr>\n",
       "    <tr>\n",
       "      <th>2</th>\n",
       "      <td>3</td>\n",
       "      <td>90000</td>\n",
       "      <td>2</td>\n",
       "      <td>2</td>\n",
       "      <td>2</td>\n",
       "      <td>34</td>\n",
       "      <td>0</td>\n",
       "      <td>0</td>\n",
       "      <td>0</td>\n",
       "      <td>0</td>\n",
       "      <td>...</td>\n",
       "      <td>14331</td>\n",
       "      <td>14948</td>\n",
       "      <td>15549</td>\n",
       "      <td>1518</td>\n",
       "      <td>1500</td>\n",
       "      <td>1000</td>\n",
       "      <td>1000</td>\n",
       "      <td>1000</td>\n",
       "      <td>5000</td>\n",
       "      <td>0</td>\n",
       "    </tr>\n",
       "    <tr>\n",
       "      <th>3</th>\n",
       "      <td>4</td>\n",
       "      <td>50000</td>\n",
       "      <td>2</td>\n",
       "      <td>2</td>\n",
       "      <td>1</td>\n",
       "      <td>37</td>\n",
       "      <td>0</td>\n",
       "      <td>0</td>\n",
       "      <td>0</td>\n",
       "      <td>0</td>\n",
       "      <td>...</td>\n",
       "      <td>28314</td>\n",
       "      <td>28959</td>\n",
       "      <td>29547</td>\n",
       "      <td>2000</td>\n",
       "      <td>2019</td>\n",
       "      <td>1200</td>\n",
       "      <td>1100</td>\n",
       "      <td>1069</td>\n",
       "      <td>1000</td>\n",
       "      <td>0</td>\n",
       "    </tr>\n",
       "    <tr>\n",
       "      <th>4</th>\n",
       "      <td>5</td>\n",
       "      <td>50000</td>\n",
       "      <td>1</td>\n",
       "      <td>2</td>\n",
       "      <td>1</td>\n",
       "      <td>57</td>\n",
       "      <td>-1</td>\n",
       "      <td>0</td>\n",
       "      <td>-1</td>\n",
       "      <td>0</td>\n",
       "      <td>...</td>\n",
       "      <td>20940</td>\n",
       "      <td>19146</td>\n",
       "      <td>19131</td>\n",
       "      <td>2000</td>\n",
       "      <td>36681</td>\n",
       "      <td>10000</td>\n",
       "      <td>9000</td>\n",
       "      <td>689</td>\n",
       "      <td>679</td>\n",
       "      <td>0</td>\n",
       "    </tr>\n",
       "  </tbody>\n",
       "</table>\n",
       "<p>5 rows × 25 columns</p>\n",
       "</div>"
      ],
      "text/plain": [
       "   ID  LIMIT_BAL  SEX  EDUCATION  MARRIAGE  AGE  PAY_1  PAY_2  PAY_3  PAY_4  \\\n",
       "0   1      20000    2          2         1   24      2      2     -1     -1   \n",
       "1   2     120000    2          2         2   26     -1      2      0      0   \n",
       "2   3      90000    2          2         2   34      0      0      0      0   \n",
       "3   4      50000    2          2         1   37      0      0      0      0   \n",
       "4   5      50000    1          2         1   57     -1      0     -1      0   \n",
       "\n",
       "   ...  BILL_AMT4  BILL_AMT5  BILL_AMT6  PAY_AMT1  PAY_AMT2  PAY_AMT3  \\\n",
       "0  ...          0          0          0         0       689         0   \n",
       "1  ...       3272       3455       3261         0      1000      1000   \n",
       "2  ...      14331      14948      15549      1518      1500      1000   \n",
       "3  ...      28314      28959      29547      2000      2019      1200   \n",
       "4  ...      20940      19146      19131      2000     36681     10000   \n",
       "\n",
       "   PAY_AMT4  PAY_AMT5  PAY_AMT6  DEFAULT_IND  \n",
       "0         0         0         0            1  \n",
       "1      1000         0      2000            1  \n",
       "2      1000      1000      5000            0  \n",
       "3      1100      1069      1000            0  \n",
       "4      9000       689       679            0  \n",
       "\n",
       "[5 rows x 25 columns]"
      ]
     },
     "execution_count": 2,
     "metadata": {},
     "output_type": "execute_result"
    }
   ],
   "source": [
    "data = pd.read_csv('../02_data/02_processed/credit_card_data_processed.csv')\n",
    "data.head()"
   ]
  },
  {
   "cell_type": "markdown",
   "metadata": {},
   "source": [
    "##### Create Functions"
   ]
  },
  {
   "cell_type": "code",
   "execution_count": 3,
   "metadata": {},
   "outputs": [],
   "source": [
    "# FUNCTION 1\n",
    "\n",
    "def train_model(X_train, y_train, model_nm):\n",
    "    parameters = get_parameters() \n",
    "    model = model_nm(\n",
    "        max_depth = parameters['max_depth'],\n",
    "        min_samples_split = parameters['min_samples_split'],\n",
    "        max_features = parameters['max_features']\n",
    "        )\n",
    "    \n",
    "    model.fit(X_train, y_train)\n",
    "\n",
    "    return model, parameters\n",
    "\n",
    "\n",
    "def get_parameters():\n",
    "    max_depth = int(input('Max Depth: '))\n",
    "    min_samples = float(input('Min Samples: '))\n",
    "    max_features = int(input('Max Features: '))\n",
    "\n",
    "    return {'max_depth' : max_depth, 'min_samples_split' : min_samples, 'max_features' : max_features}\n",
    "\n",
    "\n",
    "# FUNCTION 2\n",
    "\n",
    "def score_model(model_obj, X_test):\n",
    "    y_pred = model_obj.predict(X_test)\n",
    "\n",
    "    return  y_pred\n",
    "\n",
    "\n",
    "# FUNCTION 3\n",
    "\n",
    "def evaluate_model(y_true, y_pred):\n",
    "    acc = accuracy_score(y_true, y_pred)\n",
    "    prec = precision_score(y_true, y_pred)\n",
    "    rec = recall_score(y_true, y_pred)\n",
    "\n",
    "    return {'accuracy':acc, 'precision':prec, 'recall':rec}\n",
    "\n",
    "\n",
    "# FUNCTION 4\n",
    "\n",
    "# def create_evaluation_plots(model_obj, y_test, y_pred):\n",
    "#     cm = confusion_matrix(y_test, y_pred, labels = model_obj.classes_)\n",
    "#     ConfusionMatrixDisplay(cm, display_labels = model_obj.classes_)\n",
    "#     plt.savefig('confusion_matrix.png')\n",
    "\n",
    "    # RocCurveDisplay(model_obj, X_test, y_test)\n",
    "    # plt.savefig('roc_curve.png')"
   ]
  },
  {
   "cell_type": "markdown",
   "metadata": {},
   "source": [
    "##### Configure Parameters"
   ]
  },
  {
   "cell_type": "code",
   "execution_count": 4,
   "metadata": {},
   "outputs": [
    {
     "name": "stdout",
     "output_type": "stream",
     "text": [
      "Predictors: Count: 24 | ['ID', 'LIMIT_BAL', 'SEX', 'EDUCATION', 'MARRIAGE', 'AGE', 'PAY_1', 'PAY_2', 'PAY_3', 'PAY_4', 'PAY_5', 'PAY_6', 'BILL_AMT1', 'BILL_AMT2', 'BILL_AMT3', 'BILL_AMT4', 'BILL_AMT5', 'BILL_AMT6', 'PAY_AMT1', 'PAY_AMT2', 'PAY_AMT3', 'PAY_AMT4', 'PAY_AMT5', 'PAY_AMT6']\n",
      "Target:                 ['DEFAULT_IND']\n"
     ]
    }
   ],
   "source": [
    "X = [*data.columns][:-1]\n",
    "y = [*data.columns][-1]\n",
    "\n",
    "print(f\"Predictors: Count: {len(X)} | {X}\")\n",
    "print(f\"Target:                 ['{y}']\")"
   ]
  },
  {
   "cell_type": "markdown",
   "metadata": {},
   "source": [
    "##### Model Building"
   ]
  },
  {
   "cell_type": "code",
   "execution_count": 5,
   "metadata": {},
   "outputs": [
    {
     "name": "stdout",
     "output_type": "stream",
     "text": [
      "X_train: 21000\n",
      "y_train: 21000\n",
      "X_test: 9000\n",
      "y_test: 9000\n"
     ]
    }
   ],
   "source": [
    "X_train, X_test, y_train, y_test = train_test_split(data[X], data[y], test_size = .3, random_state = 0)\n",
    "\n",
    "print(f'X_train: {len(X_train)}')\n",
    "print(f'y_train: {len(y_train)}')\n",
    "print(f'X_test: {len(X_test)}')\n",
    "print(f'y_test: {len(X_test)}')"
   ]
  },
  {
   "cell_type": "markdown",
   "metadata": {},
   "source": [
    "##### MLFlow"
   ]
  },
  {
   "cell_type": "code",
   "execution_count": 10,
   "metadata": {},
   "outputs": [
    {
     "name": "stdout",
     "output_type": "stream",
     "text": [
      "890392801274749997\n",
      "Credit Card Defaults Experiment_Manual Tuning\n"
     ]
    }
   ],
   "source": [
    "# Step 1: Get tracking URI to know the current directory where mlruns folder will be saved\n",
    "#mlflow.get_tracking_uri()\n",
    "\n",
    "# Step 2: Set tracking URI (DagsHub)\n",
    "remote_server_uri = \n",
    "mlflow.set_tracking_uri('../04_models/mlruns')\n",
    "\n",
    "# Step 3: Create MLFlow Experiment\n",
    "try:\n",
    "    experimentv1_id = mlflow.create_experiment(\"Credit Card Defaults Experiment_Manual Tuning\")\n",
    "except:\n",
    "    pass\n",
    "\n",
    "# Step 4: Get MLFlow Experiment details\n",
    "experimentv1 = mlflow.get_experiment_by_name(\"Credit Card Defaults Experiment_Manual Tuning\")\n",
    "experimentv1_id = experimentv1.experiment_id\n",
    "experimentv1_name = experimentv1.name\n",
    "print(experimentv1_id)\n",
    "print(experimentv1_name)"
   ]
  },
  {
   "cell_type": "code",
   "execution_count": null,
   "metadata": {},
   "outputs": [],
   "source": [
    "with mlflow.start_run(experiment_id=experimentv1_id, run_name = input('Run Name: ')):\n",
    "    \n",
    "    # Train model\n",
    "    model, parameters = train_model(X_train, y_train, DecisionTreeClassifier)\n",
    "\n",
    "    # Score model\n",
    "    y_pred = score_model(model, X_test)\n",
    "\n",
    "    # Evauate model\n",
    "    eval_metrics = evaluate_model(y_test, y_pred)\n",
    "\n",
    "    # Plot\n",
    "    # create_evaluation_plots(model, X_test, y_test)\n",
    "\n",
    "    # ML Fow Log Parameters\n",
    "    mlflow.log_param('max_depth', parameters['max_depth'])\n",
    "    mlflow.log_param('min_samples_split', parameters['min_samples_split'])\n",
    "    mlflow.log_param('max_features', parameters['max_features'])\n",
    "\n",
    "    # ML Fow Log Metrics\n",
    "    mlflow.log_metric('accuracy', eval_metrics['accuracy'])\n",
    "    mlflow.log_metric('precision', eval_metrics['precision'])\n",
    "    mlflow.log_metric('recall', eval_metrics['recall'])\n",
    "\n",
    "    # ML Fow Log Artifacts\n",
    "    # mlflow.log_artifact('confusion_matrix.png', 'confusion_matrix')\n",
    "    # mlflow.log_artifact('roc_curve.png', 'confusion_matrix')\n",
    "\n",
    "    # Log Model\n",
    "    mlflow.sklearn.log_model(model, \"model\")"
   ]
  },
  {
   "cell_type": "code",
   "execution_count": null,
   "metadata": {},
   "outputs": [],
   "source": []
  }
 ],
 "metadata": {
  "kernelspec": {
   "display_name": "creditcarddefaults",
   "language": "python",
   "name": "python3"
  },
  "language_info": {
   "codemirror_mode": {
    "name": "ipython",
    "version": 3
   },
   "file_extension": ".py",
   "mimetype": "text/x-python",
   "name": "python",
   "nbconvert_exporter": "python",
   "pygments_lexer": "ipython3",
   "version": "3.9.6"
  }
 },
 "nbformat": 4,
 "nbformat_minor": 2
}
